{
 "cells": [
  {
   "cell_type": "code",
   "execution_count": 61,
   "id": "fe16886b-9fd2-4c9d-9fb5-ad572fd82452",
   "metadata": {},
   "outputs": [
    {
     "name": "stdout",
     "output_type": "stream",
     "text": [
      "    节目名称  是否需要VIP    节目ID                                              每期背景图  \\\n",
      "0  快乐再出发        1  457910  https://2img.hitv.com/preview/sp_images/2022/0...   \n",
      "1  快乐再出发        1  457910  https://2img.hitv.com/preview/sp_images/2022/0...   \n",
      "2  快乐再出发        1  457910  https://2img.hitv.com/preview/sp_images/2022/0...   \n",
      "3  快乐再出发        1  457910  https://2img.hitv.com/preview/sp_images/2022/0...   \n",
      "4  快乐再出发        1  457910  https://2img.hitv.com/preview/sp_images/2022/0...   \n",
      "\n",
      "    每期播放量            每期标题        发布日期                          每期详细标题  每期时常  \\\n",
      "0  3681.5  先导片：0713兄弟集合出发  2022-07-05  快乐再出发先导片：0713兄弟集合出发！张远王栎鑫糗事大曝光  1444   \n",
      "1  3681.5  先导片：0713兄弟集合出发  2022-07-05  快乐再出发先导片：0713兄弟集合出发！张远王栎鑫糗事大曝光  1444   \n",
      "2  3681.5  先导片：0713兄弟集合出发  2022-07-05  快乐再出发先导片：0713兄弟集合出发！张远王栎鑫糗事大曝光  1444   \n",
      "3  3681.5  先导片：0713兄弟集合出发  2022-07-05  快乐再出发先导片：0713兄弟集合出发！张远王栎鑫糗事大曝光  1444   \n",
      "4  3681.5  先导片：0713兄弟集合出发  2022-07-05  快乐再出发先导片：0713兄弟集合出发！张远王栎鑫糗事大曝光  1444   \n",
      "\n",
      "        期ID                                         期URL  \\\n",
      "0  16859880  https://www.mgtv.com/b/457910/16859880.html   \n",
      "1  16859880  https://www.mgtv.com/b/457910/16859880.html   \n",
      "2  16859880  https://www.mgtv.com/b/457910/16859880.html   \n",
      "3  16859880  https://www.mgtv.com/b/457910/16859880.html   \n",
      "4  16859880  https://www.mgtv.com/b/457910/16859880.html   \n",
      "\n",
      "                           弹幕内容  弹幕发送时间  类型        用户ID  弹幕点赞量  \n",
      "0  让我们一起谢谢五谷道场，慧眼识珠呀，我必买两箱支持一下子       0   0  3626698750     24  \n",
      "1                为了0713男团开会员！！！       0   0  2821826486     71  \n",
      "2             不出下一期我就一直看，卷死你们😛😛       0   0  2322208105     11  \n",
      "3                    终于来了啊啊啊啊啊啊       0   0   532480126     21  \n",
      "4              第二季更新太慢，来二刷老北北们啦     100   0  4108719993      5  \n"
     ]
    }
   ],
   "source": [
    "from pyecharts import options as opts\n",
    "from pyecharts.charts import Bar\n",
    "from pyecharts import options as opts\n",
    "from pyecharts.globals import ThemeType\n",
    "import pandas as pd\n",
    "\n",
    "# CSV文件路径\n",
    "csv_file = \"快乐再出发弹幕.csv\"\n",
    "\n",
    "# 使用Pandas读取CSV文件，指定编码为utf-8-sig\n",
    "df = pd.read_csv(csv_file, encoding='utf-8-sig')\n",
    "df['每期播放量'] = df['每期播放量'].str.replace('万', '').astype(float)\n",
    "df['每期时常'] = df['每期时常'].apply(lambda x: sum(int(x) * 60 ** i for i, x in enumerate(reversed(x.split(':')))))\n",
    "# 打印DataFrame，包含从CSV文件中读取的数据\n",
    "print(df[:5])\n"
   ]
  },
  {
   "cell_type": "markdown",
   "id": "981040c6-dc95-4b94-8e17-f722ad9f1b8b",
   "metadata": {},
   "source": [
    "#### 1、每期时常与播放量"
   ]
  },
  {
   "cell_type": "code",
   "execution_count": 68,
   "id": "b2e1589e-a399-4d2e-8c6d-faf9a0aba32f",
   "metadata": {},
   "outputs": [],
   "source": [
    "playcnt = df[['每期标题', '每期时常', '每期播放量']].drop_duplicates().sort_values('每期播放量', ascending=False)\n",
    "names = list(playcnt['每期标题'])\n",
    "times = list(playcnt['每期时常'])\n",
    "counts = list(playcnt['每期播放量'])\n",
    "ar = (\n",
    "    Bar(init_opts=opts.InitOpts(theme=ThemeType.LIGHT, height=\"700px\", width=\"1000px\"))\n",
    "    .add_xaxis(names)\n",
    "    .add_yaxis(\"时常\", times)\n",
    "    .add_yaxis(\"播放量\", counts)\n",
    "    .reversal_axis()\n",
    "    .set_series_opts(label_opts=opts.LabelOpts(position=\"right\"))\n",
    "    .set_global_opts(\n",
    "        title_opts=opts.TitleOpts(title=\"每期时常与播放量对比\"),\n",
    "        xaxis_opts=opts.AxisOpts(name=\"标题\"),  # 旋转45度，并显示所有标签\n",
    "        yaxis_opts=opts.AxisOpts(name=\"时常（秒），播放量（万）\",\n",
    "                                axislabel_opts=opts.LabelOpts(rotate=-0, interval=0)),\n",
    "    )\n",
    "    .render(\"1.每期时常与播放量对比.html\")\n",
    ")"
   ]
  },
  {
   "cell_type": "markdown",
   "id": "2560c431-3a28-49da-b517-bddd924978d3",
   "metadata": {},
   "source": [
    "#### 2、整体弹幕数量分布"
   ]
  },
  {
   "cell_type": "code",
   "execution_count": 72,
   "id": "0efe8b13-3f46-43fe-9de5-5634808fe237",
   "metadata": {},
   "outputs": [],
   "source": [
    "danmu_counts = df.groupby(\"每期标题\")[\"弹幕内容\"].count().reset_index()\n",
    "\n",
    "# 重命名列名，以更清晰表示数据\n",
    "danmu_counts.columns = [\"每期标题\", \"弹幕数量\"]\n",
    "danmu_counts = danmu_counts.sort_values('弹幕数量', ascending=False)\n",
    "names = list(danmu_counts['每期标题'])\n",
    "counts = list(danmu_counts['弹幕数量'])\n",
    "ar = (\n",
    "    Bar(init_opts=opts.InitOpts(theme=ThemeType.LIGHT, height=\"700px\", width=\"1000px\"))\n",
    "    .add_xaxis(names)\n",
    "    .add_yaxis(\"弹幕数量\", counts)\n",
    "    .reversal_axis()\n",
    "    .set_series_opts(label_opts=opts.LabelOpts(position=\"right\"))\n",
    "    .set_global_opts(\n",
    "        title_opts=opts.TitleOpts(title=\"每期时常与播放量对比\"),\n",
    "        xaxis_opts=opts.AxisOpts(name=\"标题\"),\n",
    "        yaxis_opts=opts.AxisOpts(name=\"弹幕数量\",\n",
    "                                axislabel_opts=opts.LabelOpts(rotate=-0, interval=0)),\n",
    "    )\n",
    "    .render(\"2.整体弹幕数量分布.html\")\n",
    ")"
   ]
  },
  {
   "cell_type": "markdown",
   "id": "ac869d39-62e8-44c5-bc8e-f1af2627a695",
   "metadata": {},
   "source": [
    "#### 3、弹幕量Top10"
   ]
  },
  {
   "cell_type": "code",
   "execution_count": 79,
   "id": "4d9c5fdd-6cb1-47de-92b1-0d3338f2ce3c",
   "metadata": {},
   "outputs": [],
   "source": [
    "danmu_counts = df[\"弹幕内容\"].value_counts().reset_index()\n",
    "# 重命名列名，以更清晰表示数据\n",
    "danmu_counts.columns = [\"弹幕内容\", \"数量\"]\n",
    "# 获取前十位弹幕内容和对应的数量\n",
    "top_10_danmu = danmu_counts.head(10)\n",
    "names = list(top_10_danmu['弹幕内容'])\n",
    "counts = list(top_10_danmu['数量'])\n",
    "ar = (\n",
    "    Bar()\n",
    "    .add_xaxis(names)\n",
    "    .add_yaxis(\"数量\", counts)\n",
    "    .reversal_axis()\n",
    "    .set_series_opts(label_opts=opts.LabelOpts(position=\"right\"))\n",
    "    .set_global_opts(\n",
    "        title_opts=opts.TitleOpts(title=\"弹幕量Top10\"),\n",
    "        xaxis_opts=opts.AxisOpts(name=\"弹幕内容\"),\n",
    "        yaxis_opts=opts.AxisOpts(name=\"数量\",\n",
    "                                axislabel_opts=opts.LabelOpts(rotate=-0, interval=0)),)\n",
    "    .render(\"3.弹幕量Top10.html\")\n",
    ")"
   ]
  },
  {
   "cell_type": "markdown",
   "id": "fe80e14b-295c-4ea9-b9a1-1223257c1490",
   "metadata": {},
   "source": [
    "#### 4、弹幕点赞量Top10"
   ]
  },
  {
   "cell_type": "code",
   "execution_count": 81,
   "id": "e6b201eb-3774-40e8-8ae4-ac628461a781",
   "metadata": {},
   "outputs": [],
   "source": [
    "# 按照弹幕点赞量降序排序，并获取前十个弹幕\n",
    "top_10_danmu = df[[\"弹幕内容\", \"弹幕点赞量\"]].sort_values(by=\"弹幕点赞量\", ascending=False).head(10)\n",
    "names = list(top_10_danmu['弹幕内容'])\n",
    "counts = list(top_10_danmu['弹幕点赞量'])\n",
    "ar = (\n",
    "    Bar()\n",
    "    .add_xaxis(names)\n",
    "    .add_yaxis(\"弹幕点赞量\", counts)\n",
    "    .reversal_axis()\n",
    "    .set_series_opts(label_opts=opts.LabelOpts(position=\"right\"))\n",
    "    .set_global_opts(\n",
    "        title_opts=opts.TitleOpts(title=\"弹幕点赞量Top10\"),\n",
    "        xaxis_opts=opts.AxisOpts(name=\"弹幕内容\"),\n",
    "        yaxis_opts=opts.AxisOpts(name=\"弹幕点赞量\",\n",
    "                                axislabel_opts=opts.LabelOpts(rotate=-0, interval=0)),)\n",
    "    .render(\"4.弹幕点赞量Top10.html\")\n",
    ")"
   ]
  },
  {
   "cell_type": "code",
   "execution_count": null,
   "id": "98aed018-2a6a-4092-8ce1-4e6118093c92",
   "metadata": {},
   "outputs": [],
   "source": []
  }
 ],
 "metadata": {
  "kernelspec": {
   "display_name": "Python 3 (ipykernel)",
   "language": "python",
   "name": "python3"
  },
  "language_info": {
   "codemirror_mode": {
    "name": "ipython",
    "version": 3
   },
   "file_extension": ".py",
   "mimetype": "text/x-python",
   "name": "python",
   "nbconvert_exporter": "python",
   "pygments_lexer": "ipython3",
   "version": "3.9.0"
  }
 },
 "nbformat": 4,
 "nbformat_minor": 5
}
