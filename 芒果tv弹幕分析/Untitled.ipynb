{
 "cells": [
  {
   "cell_type": "code",
   "execution_count": 2,
   "id": "fe16886b-9fd2-4c9d-9fb5-ad572fd82452",
   "metadata": {},
   "outputs": [
    {
     "name": "stdout",
     "output_type": "stream",
     "text": [
      "         节目名称  是否需要VIP    节目ID  \\\n",
      "0       快乐再出发        1  457910   \n",
      "1       快乐再出发        1  457910   \n",
      "2       快乐再出发        1  457910   \n",
      "3       快乐再出发        1  457910   \n",
      "4       快乐再出发        1  457910   \n",
      "...       ...      ...     ...   \n",
      "275347  快乐再出发        1  457910   \n",
      "275348  快乐再出发        1  457910   \n",
      "275349  快乐再出发        1  457910   \n",
      "275350  快乐再出发        1  457910   \n",
      "275351  快乐再出发        1  457910   \n",
      "\n",
      "                                                    每期背景图    每期播放量  \\\n",
      "0       https://2img.hitv.com/preview/sp_images/2022/0...  3681.1万   \n",
      "1       https://2img.hitv.com/preview/sp_images/2022/0...  3681.1万   \n",
      "2       https://2img.hitv.com/preview/sp_images/2022/0...  3681.1万   \n",
      "3       https://2img.hitv.com/preview/sp_images/2022/0...  3681.1万   \n",
      "4       https://2img.hitv.com/preview/sp_images/2022/0...  3681.1万   \n",
      "...                                                   ...      ...   \n",
      "275347  https://4img.hitv.com/preview/sp_images/2022/0...   931.8万   \n",
      "275348  https://4img.hitv.com/preview/sp_images/2022/0...   931.8万   \n",
      "275349  https://4img.hitv.com/preview/sp_images/2022/0...   931.8万   \n",
      "275350  https://4img.hitv.com/preview/sp_images/2022/0...   931.8万   \n",
      "275351  https://4img.hitv.com/preview/sp_images/2022/0...   931.8万   \n",
      "\n",
      "                  每期标题        发布日期                                     每期详细标题  \\\n",
      "0       先导片：0713兄弟集合出发  2022-07-05             快乐再出发先导片：0713兄弟集合出发！张远王栎鑫糗事大曝光   \n",
      "1       先导片：0713兄弟集合出发  2022-07-05             快乐再出发先导片：0713兄弟集合出发！张远王栎鑫糗事大曝光   \n",
      "2       先导片：0713兄弟集合出发  2022-07-05             快乐再出发先导片：0713兄弟集合出发！张远王栎鑫糗事大曝光   \n",
      "3       先导片：0713兄弟集合出发  2022-07-05             快乐再出发先导片：0713兄弟集合出发！张远王栎鑫糗事大曝光   \n",
      "4       先导片：0713兄弟集合出发  2022-07-05             快乐再出发先导片：0713兄弟集合出发！张远王栎鑫糗事大曝光   \n",
      "...                ...         ...                                        ...   \n",
      "275347       臻享版：海边演唱会  2022-08-26  快乐再出发 演唱会臻享版：《活该》海边特别版公开！0713兄弟团金曲联唱上演回忆杀   \n",
      "275348       臻享版：海边演唱会  2022-08-26  快乐再出发 演唱会臻享版：《活该》海边特别版公开！0713兄弟团金曲联唱上演回忆杀   \n",
      "275349       臻享版：海边演唱会  2022-08-26  快乐再出发 演唱会臻享版：《活该》海边特别版公开！0713兄弟团金曲联唱上演回忆杀   \n",
      "275350       臻享版：海边演唱会  2022-08-26  快乐再出发 演唱会臻享版：《活该》海边特别版公开！0713兄弟团金曲联唱上演回忆杀   \n",
      "275351       臻享版：海边演唱会  2022-08-26  快乐再出发 演唱会臻享版：《活该》海边特别版公开！0713兄弟团金曲联唱上演回忆杀   \n",
      "\n",
      "         每期时常       期ID                                         期URL  \\\n",
      "0       24:04  16859880  https://www.mgtv.com/b/457910/16859880.html   \n",
      "1       24:04  16859880  https://www.mgtv.com/b/457910/16859880.html   \n",
      "2       24:04  16859880  https://www.mgtv.com/b/457910/16859880.html   \n",
      "3       24:04  16859880  https://www.mgtv.com/b/457910/16859880.html   \n",
      "4       24:04  16859880  https://www.mgtv.com/b/457910/16859880.html   \n",
      "...       ...       ...                                          ...   \n",
      "275347  45:38  17352676  https://www.mgtv.com/b/457910/17352676.html   \n",
      "275348  45:38  17352676  https://www.mgtv.com/b/457910/17352676.html   \n",
      "275349  45:38  17352676  https://www.mgtv.com/b/457910/17352676.html   \n",
      "275350  45:38  17352676  https://www.mgtv.com/b/457910/17352676.html   \n",
      "275351  45:38  17352676  https://www.mgtv.com/b/457910/17352676.html   \n",
      "\n",
      "                                弹幕内容   弹幕发送时间  类型        用户ID  弹幕点赞量  \n",
      "0       让我们一起谢谢五谷道场，慧眼识珠呀，我必买两箱支持一下子        0   0  3626698750     24  \n",
      "1                     为了0713男团开会员！！！        0   0  2821826486     71  \n",
      "2                  不出下一期我就一直看，卷死你们😛😛        0   0  2322208105     11  \n",
      "3                         终于来了啊啊啊啊啊啊        0   0   532480126     21  \n",
      "4                   第二季更新太慢，来二刷老北北们啦      100   0  4108719993      5  \n",
      "...                              ...      ...  ..         ...    ...  \n",
      "275347                       一定要有下一季  2737533   0  2325000380      0  \n",
      "275348                           下季见  2737575   0  3179981107      0  \n",
      "275349                         爱死张远了  2737132   0  4162990484      0  \n",
      "275350                          遇水则发  2738306   0  3938137845      0  \n",
      "275351                           下季见  2738020   0  3288254944      0  \n",
      "\n",
      "[275352 rows x 16 columns]\n"
     ]
    }
   ],
   "source": [
    "import pandas as pd\n",
    "\n",
    "# CSV文件路径\n",
    "csv_file = \"快乐再出发弹幕.csv\"\n",
    "\n",
    "# 使用Pandas读取CSV文件，指定编码为utf-8-sig\n",
    "df = pd.read_csv(csv_file, encoding='utf-8-sig')\n",
    "\n",
    "# 打印DataFrame，包含从CSV文件中读取的数据\n",
    "print(df)\n"
   ]
  },
  {
   "cell_type": "markdown",
   "id": "981040c6-dc95-4b94-8e17-f722ad9f1b8b",
   "metadata": {},
   "source": [
    "#### 1、每期播放量"
   ]
  },
  {
   "cell_type": "code",
   "execution_count": 3,
   "id": "6cbd0f14-9bac-4eca-b117-b39d5b7e5138",
   "metadata": {},
   "outputs": [],
   "source": [
    "df['每期播放量'] = df['每期播放量'].str.replace('万', '').astype(float)"
   ]
  },
  {
   "cell_type": "code",
   "execution_count": 4,
   "id": "b2e1589e-a399-4d2e-8c6d-faf9a0aba32f",
   "metadata": {},
   "outputs": [],
   "source": [
    "from pyecharts import options as opts\n",
    "from pyecharts.charts import Bar\n",
    "\n",
    "playcnt = df[['每期标题', '每期播放量']].drop_duplicates(subset=['每期标题', '每期播放量']).sort_values('每期播放量', ascending=False)\n",
    "names = list(playcnt['每期标题'])\n",
    "counts = list(playcnt['每期播放量'])\n",
    "c = (\n",
    "    Bar()\n",
    "    .add_xaxis(names)\n",
    "    .add_yaxis(\"\", counts)\n",
    "    .reversal_axis()\n",
    "    .set_series_opts(label_opts=opts.LabelOpts(position=\"inside\"))\n",
    "    .set_global_opts(title_opts=opts.TitleOpts(title=\"播放量排行（万）\"),\n",
    "                    xaxis_opts=opts.AxisOpts(axislabel_opts=opts.LabelOpts(rotate=0, font_size=12)),)\n",
    "    .render(\"1.播放量排行.html\")\n",
    ")"
   ]
  },
  {
   "cell_type": "markdown",
   "id": "8b63b6e5-9ea3-42b6-b3c5-eeb9d4132db4",
   "metadata": {},
   "source": [
    "#### 2、每期播放量"
   ]
  },
  {
   "cell_type": "code",
   "execution_count": 6,
   "id": "8952a1a1-7610-45b6-849a-25fdb2d06da0",
   "metadata": {},
   "outputs": [],
   "source": [
    "# 去重数据\n",
    "df_time = df[['每期标题', '每期时常']].drop_duplicates(subset=['每期标题', '每期时常'])\n",
    "# 将时间数据转换为总秒数\n",
    "df_time['每期时常'] = df_time['每期时常'].apply(lambda x: sum(int(x) * 60 ** i for i, x in enumerate(reversed(x.split(':')))))"
   ]
  },
  {
   "cell_type": "code",
   "execution_count": 7,
   "id": "773ef4e3-8f71-437f-a247-4fc16d6f96c8",
   "metadata": {},
   "outputs": [
    {
     "data": {
      "text/plain": [
       "0         1444\n",
       "8410      5242\n",
       "38732     1758\n",
       "48925     5398\n",
       "80303     1152\n",
       "86935     5357\n",
       "117972    5358\n",
       "149101    1779\n",
       "159277    5348\n",
       "190288    1241\n",
       "197529    5345\n",
       "228501    5345\n",
       "259806    2738\n",
       "Name: 每期时常, dtype: int64"
      ]
     },
     "execution_count": 7,
     "metadata": {},
     "output_type": "execute_result"
    }
   ],
   "source": [
    "df_time['每期时常']"
   ]
  }
 ],
 "metadata": {
  "kernelspec": {
   "display_name": "Python 3 (ipykernel)",
   "language": "python",
   "name": "python3"
  },
  "language_info": {
   "codemirror_mode": {
    "name": "ipython",
    "version": 3
   },
   "file_extension": ".py",
   "mimetype": "text/x-python",
   "name": "python",
   "nbconvert_exporter": "python",
   "pygments_lexer": "ipython3",
   "version": "3.9.0"
  }
 },
 "nbformat": 4,
 "nbformat_minor": 5
}
